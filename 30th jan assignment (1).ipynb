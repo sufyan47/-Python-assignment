{
 "cells": [
  {
   "cell_type": "code",
   "execution_count": 5,
   "id": "4503b754-e66a-4349-a476-19864fcca2c5",
   "metadata": {},
   "outputs": [
    {
     "name": "stdin",
     "output_type": "stream",
     "text": [
      "enter our marks or percentage 55\n"
     ]
    },
    {
     "name": "stdout",
     "output_type": "stream",
     "text": [
      "Grade D\n"
     ]
    }
   ],
   "source": [
    "#1. Write a program to accept percentage from the user and display the grade according to the following \n",
    "marks=int(input(\"enter our marks or percentage\"))\n",
    "if marks>90:\n",
    "    print(\"Grade A\")\n",
    "elif marks >80 and marks <=90 :\n",
    "        print(\"Grade B\")\n",
    "elif marks >=60 and marks  <=80 :\n",
    "        print(\"Grade C\")\n",
    "elif marks <60 :\n",
    "    print(\"Grade D\" )"
   ]
  },
  {
   "cell_type": "code",
   "execution_count": 8,
   "id": "869950b5-fcc5-4fd6-8067-0cb5ed74711e",
   "metadata": {},
   "outputs": [
    {
     "name": "stdin",
     "output_type": "stream",
     "text": [
      "enter cost of your bike  20000\n"
     ]
    },
    {
     "name": "stdout",
     "output_type": "stream",
     "text": [
      "you have to pay 5% tax\n"
     ]
    }
   ],
   "source": [
    "#2. Write a program to accept the cost price of a bike and display the road tax to be paid according to the following criteria: \n",
    "cost =int(input(\"enter cost of your bike \"))\n",
    "if cost>100000:\n",
    "    print(\"you have to pay 15% tax\")\n",
    "elif cost>50000 and cost<= 100000 :\n",
    "        print(\"you have to pay 10% tax\")\n",
    "elif cost <= 50000:\n",
    "        print(\"you have to pay 5% tax\")"
   ]
  },
  {
   "cell_type": "code",
   "execution_count": 15,
   "id": "af55398a-45f5-4ef0-be6a-c6adca246a4f",
   "metadata": {},
   "outputs": [
    {
     "name": "stdin",
     "output_type": "stream",
     "text": [
      "enter your city akola\n"
     ]
    },
    {
     "name": "stdout",
     "output_type": "stream",
     "text": [
      "enter a valid city\n"
     ]
    }
   ],
   "source": [
    "#3. Accept any city from the user and display monuments of that city\n",
    "city=str(input(\"enter your city\"))\n",
    "if city==\"Delhi\":\n",
    "        print(\"monument=Red Fort\")\n",
    "elif city==\"Agra\":\n",
    "    print(\"monument=Taj Mahal\")\n",
    "elif city==\"Jaipur\":\n",
    "    print(\"monument=Jal Mahal\")\n",
    "else:\n",
    "    print(\"enter a valid city\")\n",
    "    \n",
    "\n",
    "\n",
    "    \n",
    "    \n"
   ]
  },
  {
   "cell_type": "code",
   "execution_count": 4,
   "id": "10eb49c6-063d-4c10-b29f-c29dd64f6a84",
   "metadata": {},
   "outputs": [
    {
     "name": "stdin",
     "output_type": "stream",
     "text": [
      "enter a number 5454\n"
     ]
    },
    {
     "name": "stdout",
     "output_type": "stream",
     "text": [
      "6  times number is divisible\n"
     ]
    }
   ],
   "source": [
    "#4. Check how many times a given number can be divided by 3 before it is less than or equal to 10. \n",
    "count=0\n",
    "number=int(input(\"enter a number\"))\n",
    "while number>10:\n",
    "    number=number/3\n",
    "    count=count + 1\n",
    "print(count,\" times number is divisible\")\n",
    "    \n"
   ]
  },
  {
   "cell_type": "code",
   "execution_count": 5,
   "id": "76a29862-70d5-4249-a41c-9211cae0d6e5",
   "metadata": {},
   "outputs": [
    {
     "name": "stdin",
     "output_type": "stream",
     "text": [
      "enter a number 10\n"
     ]
    },
    {
     "name": "stdout",
     "output_type": "stream",
     "text": [
      "0  times number is divisible\n"
     ]
    }
   ],
   "source": [
    "\"\"\"#5.Why and When to Use while Loop in Python give a detailed description with example \n",
    "Ans:A While loop in Python allows a part of the code to be executed repeatedly as long as a given condition is true. The While loop in Python is also called a pre-tested loop. It is typically used when the number of iterations is not known.\n",
    "\n",
    "A Python While loop expression/condition consists of three parts:\n",
    "\n",
    "A piece of code that needs to be repeated over and over\n",
    "The while keyword\n",
    "A condition that translates to either True or False\n",
    "eg:given below\"\"\"\n",
    "count=0\n",
    "number=int(input(\"enter a number\"))\n",
    "while number>10:\n",
    "    number=number/3\n",
    "    count=count + 1\n",
    "print(count,\" times number is divisible\")\n",
    "\n"
   ]
  },
  {
   "cell_type": "code",
   "execution_count": 2,
   "id": "e009ed87-acf7-453e-b3d7-da88b7d317f4",
   "metadata": {},
   "outputs": [
    {
     "name": "stdin",
     "output_type": "stream",
     "text": [
      "Enter number of rows :  3\n"
     ]
    },
    {
     "name": "stdout",
     "output_type": "stream",
     "text": [
      "* \n",
      "* * \n",
      "* * * \n"
     ]
    }
   ],
   "source": [
    "#6. Use nested while loop to print 3 different pattern. \n",
    "\n",
    "n = int(input('Enter number of rows : '))\n",
    " \n",
    "i = 1\n",
    "while i <= n :\n",
    "    j = 1\n",
    "    while j <= i:\n",
    "        print(\"*\", end = \" \")\n",
    "        j += 1\n",
    "    print()\n",
    "    i += 1\n"
   ]
  },
  {
   "cell_type": "code",
   "execution_count": 1,
   "id": "9ceb2e21-abbe-45dc-b6fe-faeb83d06d91",
   "metadata": {},
   "outputs": [
    {
     "name": "stdout",
     "output_type": "stream",
     "text": [
      "10\n",
      "9\n",
      "8\n",
      "7\n",
      "6\n",
      "5\n",
      "4\n",
      "3\n",
      "2\n",
      "1\n"
     ]
    }
   ],
   "source": [
    "#7. Reverse a while loop to display numbers from 10 to 1. \n",
    "a=10\n",
    "while a>0:\n",
    "    print(a)\n",
    "    a=a-1\n",
    "      \n"
   ]
  },
  {
   "cell_type": "code",
   "execution_count": 3,
   "id": "93d96c25-ca13-4124-b1ed-cf87ea3447b9",
   "metadata": {},
   "outputs": [
    {
     "name": "stdout",
     "output_type": "stream",
     "text": [
      "10\n",
      "9\n",
      "8\n",
      "7\n",
      "6\n",
      "5\n",
      "4\n",
      "3\n",
      "2\n",
      "1\n"
     ]
    }
   ],
   "source": [
    "#8. Reverse a while loop to display numbers from 10 to 1. \n",
    "a=10\n",
    "while a>0:\n",
    "    print(a)\n",
    "    a=a-1\n",
    "      \n"
   ]
  },
  {
   "cell_type": "code",
   "execution_count": null,
   "id": "ef59f9f6-d56d-4db5-a035-b4ba6fb943ee",
   "metadata": {},
   "outputs": [],
   "source": []
  }
 ],
 "metadata": {
  "kernelspec": {
   "display_name": "Python 3 (ipykernel)",
   "language": "python",
   "name": "python3"
  },
  "language_info": {
   "codemirror_mode": {
    "name": "ipython",
    "version": 3
   },
   "file_extension": ".py",
   "mimetype": "text/x-python",
   "name": "python",
   "nbconvert_exporter": "python",
   "pygments_lexer": "ipython3",
   "version": "3.10.8"
  }
 },
 "nbformat": 4,
 "nbformat_minor": 5
}
