{
 "cells": [
  {
   "cell_type": "code",
   "execution_count": 1,
   "id": "21fd3376-020a-4f03-9dfa-6c78ea3ecab0",
   "metadata": {},
   "outputs": [
    {
     "data": {
      "text/plain": [
       "'1. Who developed Python Programming Language? \\nAns:Python was created by Guido van Rossum, and released in 1991.'"
      ]
     },
     "execution_count": 1,
     "metadata": {},
     "output_type": "execute_result"
    }
   ],
   "source": [
    "\"\"\"1. Who developed Python Programming Language? \n",
    "Ans:Python was created by Guido van Rossum, and released in 1991.\"\"\"\n"
   ]
  },
  {
   "cell_type": "code",
   "execution_count": 3,
   "id": "a9ad71f3-b070-43e4-ae8e-3e99b722e159",
   "metadata": {},
   "outputs": [
    {
     "data": {
      "text/plain": [
       "'2.Which type of Programming does Python support? \\nAns:Python is an interpreted programming language, which supports object-oriented, structured, and functional programming.'"
      ]
     },
     "execution_count": 3,
     "metadata": {},
     "output_type": "execute_result"
    }
   ],
   "source": [
    "\"\"\"2.Which type of Programming does Python support? \n",
    "Ans:Python is an interpreted programming language, which supports object-oriented, structured, and functional programming.\"\"\""
   ]
  },
  {
   "cell_type": "code",
   "execution_count": 4,
   "id": "59f8626c-2cd0-4d35-b700-d83dac92d90a",
   "metadata": {},
   "outputs": [
    {
     "data": {
      "text/plain": [
       "'3.Is Python case sensitive when dealing with identifiers? \\nAns:yes,Case is always significant while dealing with identifiers in python.'"
      ]
     },
     "execution_count": 4,
     "metadata": {},
     "output_type": "execute_result"
    }
   ],
   "source": [
    "\"\"\"3.Is Python case sensitive when dealing with identifiers? \n",
    "Ans:yes,Case is always significant while dealing with identifiers in python.\"\"\"\n"
   ]
  },
  {
   "cell_type": "code",
   "execution_count": 5,
   "id": "79cdfe46-c431-4757-983d-136c5fef601f",
   "metadata": {},
   "outputs": [
    {
     "data": {
      "text/plain": [
       "'4.What is the correct extension of the Python file? \\nAns:.py'"
      ]
     },
     "execution_count": 5,
     "metadata": {},
     "output_type": "execute_result"
    }
   ],
   "source": [
    "\"\"\"4.What is the correct extension of the Python file? \n",
    "Ans:.py\"\"\"\n"
   ]
  },
  {
   "cell_type": "code",
   "execution_count": 6,
   "id": "fe9e26f6-8edb-4ba6-bf0e-2e742709902c",
   "metadata": {},
   "outputs": [
    {
     "data": {
      "text/plain": [
       "'5. Is Python code compiled or interpreted? \\nAns:Python code is both compiled and interpreted'"
      ]
     },
     "execution_count": 6,
     "metadata": {},
     "output_type": "execute_result"
    }
   ],
   "source": [
    "\"\"\"5. Is Python code compiled or interpreted? \n",
    "Ans:Python code is both compiled and interpreted\"\"\""
   ]
  },
  {
   "cell_type": "code",
   "execution_count": 7,
   "id": "0b508f3b-4d78-4587-8edc-ed59df82b654",
   "metadata": {},
   "outputs": [
    {
     "name": "stdout",
     "output_type": "stream",
     "text": [
      "1\n",
      "2\n",
      "3\n",
      "4\n",
      "5\n",
      "out of range\n"
     ]
    }
   ],
   "source": [
    "\"\"\"6. Name a few blocks of code used to define in Python language?\n",
    "Ans:Python programs get structured through indentation, i.e. code blocks are defined by their indentation\"\"\"\n",
    "a=[1,2,3,4,5]\n",
    "for i in a:\n",
    "    print(i)\n",
    "else:\n",
    "    print(\"out of range\")\n",
    "        \n",
    "     \n",
    " \n",
    "\n",
    " \n"
   ]
  },
  {
   "cell_type": "code",
   "execution_count": 8,
   "id": "8a64a0ef-552b-47f9-ba7c-f3fe2c8fd775",
   "metadata": {},
   "outputs": [
    {
     "data": {
      "text/plain": [
       "'7. State a character used to give single-line comments in Python? \\nAns: # character is  used to give single-line comments in Python'"
      ]
     },
     "execution_count": 8,
     "metadata": {},
     "output_type": "execute_result"
    }
   ],
   "source": [
    "\"\"\"7. State a character used to give single-line comments in Python? \n",
    "Ans: # character is  used to give single-line comments in Python\"\"\"\n"
   ]
  },
  {
   "cell_type": "code",
   "execution_count": 1,
   "id": "b143bec2-3238-46b1-878f-1aac79724d33",
   "metadata": {},
   "outputs": [
    {
     "data": {
      "text/plain": [
       "'8. Mention functions which can help us to find the version of python that we are currently working on? \\nAns:sys.version'"
      ]
     },
     "execution_count": 1,
     "metadata": {},
     "output_type": "execute_result"
    }
   ],
   "source": [
    "\"\"\"8. Mention functions which can help us to find the version of python that we are currently working on? \n",
    "Ans:sys.version\"\"\"\n"
   ]
  },
  {
   "cell_type": "code",
   "execution_count": 2,
   "id": "ee58831c-b3b5-45de-bf8f-bd03d7b6d71e",
   "metadata": {},
   "outputs": [
    {
     "data": {
      "text/plain": [
       "'9. Python supports the creation of anonymous functions at runtime, using a construct called\\nAns: Python supports the creation of anonymous functions (i.e. functions that are not bound to a name) at runtime, using a construct called lambda. Lambda functions are restricted to a single expression. They can be used wherever normal functions can be used.'"
      ]
     },
     "execution_count": 2,
     "metadata": {},
     "output_type": "execute_result"
    }
   ],
   "source": [
    "\"\"\"9. Python supports the creation of anonymous functions at runtime, using a construct called\n",
    "Ans: Python supports the creation of anonymous functions (i.e. functions that are not bound to a name) at runtime, using a construct called lambda. Lambda functions are restricted to a single expression. They can be used wherever normal functions can be used.\"\"\""
   ]
  },
  {
   "cell_type": "code",
   "execution_count": 3,
   "id": "cfd42cae-999d-42ee-8978-4afee09d9480",
   "metadata": {},
   "outputs": [
    {
     "data": {
      "text/plain": [
       "'10.What does pip stand for python? \\nAns:Preferred Installer Program'"
      ]
     },
     "execution_count": 3,
     "metadata": {},
     "output_type": "execute_result"
    }
   ],
   "source": [
    "\"\"\"10.What does pip stand for python? \n",
    "Ans:Preferred Installer Program\"\"\"\n"
   ]
  },
  {
   "cell_type": "code",
   "execution_count": 2,
   "id": "c2031139-1c49-43bb-bd4b-10af9877eebd",
   "metadata": {},
   "outputs": [
    {
     "data": {
      "text/plain": [
       "'11. Mention a few built-in functions in python? \\nAns:print( ) function.\\ntype( ) function.\\ninput( ) function.\\nabs( ) function.\\npow( ) function.\\ndir( ) function.\\nsorted( ) function.\\nmax( ) function \\nand many more functions'"
      ]
     },
     "execution_count": 2,
     "metadata": {},
     "output_type": "execute_result"
    }
   ],
   "source": [
    "\"\"\"11. Mention a few built-in functions in python? \n",
    "Ans:print( ) function.\n",
    "type( ) function.\n",
    "input( ) function.\n",
    "abs( ) function.\n",
    "pow( ) function.\n",
    "dir( ) function.\n",
    "sorted( ) function.\n",
    "max( ) function \n",
    "and many more functions\"\"\""
   ]
  },
  {
   "cell_type": "code",
   "execution_count": 3,
   "id": "f3a32a1f-e63f-4b37-9fba-78e91c2d12e1",
   "metadata": {},
   "outputs": [
    {
     "data": {
      "text/plain": [
       "'12. What is the maximum possible length of an identifier in Python? \\nAns:An identifier can have a maximum length of 79 characters in Python\\n'"
      ]
     },
     "execution_count": 3,
     "metadata": {},
     "output_type": "execute_result"
    }
   ],
   "source": [
    "\"\"\"12. What is the maximum possible length of an identifier in Python? \n",
    "Ans:An identifier can have a maximum length of 79 characters in Python\n",
    "\"\"\"\n"
   ]
  },
  {
   "cell_type": "code",
   "execution_count": 5,
   "id": "a9e15cd9-f363-4ea3-bba2-9e5662634b81",
   "metadata": {},
   "outputs": [
    {
     "data": {
      "text/plain": [
       "'13. What are the benefits of using Python? \\nAns:Presence of third-party modules \\nExtensive support libraries(NumPy for numerical calculations, Pandas for data analytics, etc.) \\nOpen source and large active community base \\nVersatile, Easy to read, learn and write\\nUser-friendly data structures \\nHigh-level language \\nDynamically typed language(No need to mention data type based on the value assigned, it takes data type) \\nObject-Oriented and Procedural  Programming language\\nPortable and Interactive\\nIdeal for prototypes – provide more functionality with less coding\\nHighly Efficient(Python’s clean object-oriented design provides enhanced process control, and the language is equipped with excellent text processing and integration capabilities, as well as its own unit testing framework, which makes it more efficient.)\\nInternet of Things(IoT) Opportunities\\nInterpreted Language\\nPortable across Operating systems '"
      ]
     },
     "execution_count": 5,
     "metadata": {},
     "output_type": "execute_result"
    }
   ],
   "source": [
    "\"\"\"13. What are the benefits of using Python? \n",
    "Ans:Presence of third-party modules \n",
    "Extensive support libraries(NumPy for numerical calculations, Pandas for data analytics, etc.) \n",
    "Open source and large active community base \n",
    "Versatile, Easy to read, learn and write\n",
    "User-friendly data structures \n",
    "High-level language \n",
    "Dynamically typed language(No need to mention data type based on the value assigned, it takes data type) \n",
    "Object-Oriented and Procedural  Programming language\n",
    "Portable and Interactive\n",
    "Ideal for prototypes – provide more functionality with less coding\n",
    "Highly Efficient(Python’s clean object-oriented design provides enhanced process control, and the language is equipped with excellent text processing and integration capabilities, as well as its own unit testing framework, which makes it more efficient.)\n",
    "Internet of Things(IoT) Opportunities\n",
    "Interpreted Language\n",
    "Portable across Operating systems \"\"\"\n"
   ]
  },
  {
   "cell_type": "code",
   "execution_count": 7,
   "id": "f8dc1a8f-069f-4b77-91ae-6c5948b0a02a",
   "metadata": {},
   "outputs": [
    {
     "data": {
      "text/plain": [
       "'14.How is memory managed in Python? \\nAns:Memory management in Python involves a private heap containing all Python objects and data structures. The management of this private heap is ensured internally by the Python memory manager. The Python memory manager has different components which deal with various dynamic storage management aspects, like sharing, segmentation, preallocation or caching\\nor\\nUnderstanding Memory allocation is important to any software developer as writing efficient code means writing a memory-efficient code. Memory allocation can be defined as allocating a block of space in the computer memory to a program.'"
      ]
     },
     "execution_count": 7,
     "metadata": {},
     "output_type": "execute_result"
    }
   ],
   "source": [
    "\"\"\"14.How is memory managed in Python? \n",
    "Ans:Memory management in Python involves a private heap containing all Python objects and data structures. The management of this private heap is ensured internally by the Python memory manager. The Python memory manager has different components which deal with various dynamic storage management aspects, like sharing, segmentation, preallocation or caching\n",
    "or\n",
    "Understanding Memory allocation is important to any software developer as writing efficient code means writing a memory-efficient code. Memory allocation can be defined as allocating a block of space in the computer memory to a program.\"\"\"\n",
    "\n",
    "\n"
   ]
  },
  {
   "cell_type": "code",
   "execution_count": null,
   "id": "defb330f-b435-4677-bbd3-f5c95597a5c6",
   "metadata": {},
   "outputs": [],
   "source": [
    "\"\"\"15How to install Python on Windows and set path variables?\n",
    "Ans:Install python from this link https://www.python.org/downloads/\n",
    "After this, install it on your PC. Look for the location where PYTHON has been installed on your PC using tge following command on your command prompt: cmd python.\n",
    "Then go to advanced system settings and add new variable and name it as PYTHON_NAME and paste the copied path.\n",
    "Then look for the path variable, select it's value and select edit\n",
    "Add a semicolon towards the end of the value if it's not present and then type %PYTHON_HOME%\"\"\""
   ]
  },
  {
   "cell_type": "code",
   "execution_count": 8,
   "id": "949852ee-c6cf-4ff2-97ed-248c8611b759",
   "metadata": {},
   "outputs": [
    {
     "data": {
      "text/plain": [
       "'16. Is indentation required in python? \\nAns:Indentation is a very important concept of Python because without properly indenting the Python code, you will end up seeing IndentationError and the code will not get compiled.Python indentation refers to adding white space before a statement to a particular block of code. In another word, all the statements with the same space to the right, belong to the same code block.'"
      ]
     },
     "execution_count": 8,
     "metadata": {},
     "output_type": "execute_result"
    }
   ],
   "source": [
    "\"\"\"16. Is indentation required in python? \n",
    "Ans:Indentation is a very important concept of Python because without properly indenting the Python code, you will end up seeing IndentationError and the code will not get compiled.Python indentation refers to adding white space before a statement to a particular block of code. In another word, all the statements with the same space to the right, belong to the same code block.\"\"\"\n"
   ]
  },
  {
   "cell_type": "code",
   "execution_count": null,
   "id": "4c9a5d54-68fc-4cd7-bb79-cebb1cb01b4b",
   "metadata": {},
   "outputs": [],
   "source": []
  }
 ],
 "metadata": {
  "kernelspec": {
   "display_name": "Python 3 (ipykernel)",
   "language": "python",
   "name": "python3"
  },
  "language_info": {
   "codemirror_mode": {
    "name": "ipython",
    "version": 3
   },
   "file_extension": ".py",
   "mimetype": "text/x-python",
   "name": "python",
   "nbconvert_exporter": "python",
   "pygments_lexer": "ipython3",
   "version": "3.10.8"
  }
 },
 "nbformat": 4,
 "nbformat_minor": 5
}
