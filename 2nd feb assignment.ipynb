{
 "cells": [
  {
   "cell_type": "code",
   "execution_count": 8,
   "id": "c51b01ce-aee3-48a3-b5d9-15ba79004242",
   "metadata": {},
   "outputs": [
    {
     "name": "stdout",
     "output_type": "stream",
     "text": [
      "0\n",
      "1\n",
      "2\n",
      "3\n",
      "4\n",
      "0\n",
      "1\n",
      "2\n",
      "3\n",
      "4\n"
     ]
    }
   ],
   "source": [
    "#1. Explain with an example each when to use a for loop and a while loop.\n",
    "\"\"\"for loop-\n",
    "In Python, the for loop is used to run a block of code for a certain number of times. \n",
    "It is used to iterate over any sequences such as list, tuple, string, etc.\"\"\"\n",
    "#for loop example to print no from 0 to 4\n",
    "for i in  range(5):\n",
    "    print(i)\n",
    "\"\"\"while loop\n",
    " A loop that executes a single statement or a group of statements for the given true condition. \n",
    " The keyword used to represent this loop is \"while\". A \"while\" loop is used when the number of iterations is unknown.\n",
    " The statement repeats itself till the boolean value becomes false. \n",
    " In a while loop, the condition is tested at the start, also known as the pre-test loop\"\"\n",
    " #while loop example to print no from 0 to 4\"\"\"\n",
    "n=5\n",
    "counter=0\n",
    "while counter<n:\n",
    "        print(counter)\n",
    "        counter=counter + 1\n",
    "\n",
    " \n",
    "\n"
   ]
  },
  {
   "cell_type": "code",
   "execution_count": 13,
   "id": "62a3f994-af61-476a-92b6-dcf11f9ff63f",
   "metadata": {},
   "outputs": [
    {
     "name": "stdout",
     "output_type": "stream",
     "text": [
      "using for loop sum and product are 55 3628800\n"
     ]
    },
    {
     "name": "stdin",
     "output_type": "stream",
     "text": [
      "enter your limit 10\n"
     ]
    },
    {
     "name": "stdout",
     "output_type": "stream",
     "text": [
      "using while loop sum and product are 55 3628800\n"
     ]
    }
   ],
   "source": [
    "#Q2.  Write a python program to print the sum and product of the first 10 natural numbers using for  and while loop. \n",
    "#Ans\n",
    "#using for loop\n",
    "sum=0\n",
    "product=1\n",
    "for i in range(1,11):\n",
    "    sum=sum + i\n",
    "    product=product*i\n",
    "print(\"using for loop sum and product are\",sum,product)\n",
    "#using while loop\n",
    "n=int(input(\"enter your limit\"))\n",
    "sum=0\n",
    "product=1\n",
    "counter=1\n",
    "while counter<=n:\n",
    "    sum=sum+counter\n",
    "    product=product*counter\n",
    "    counter=counter+1\n",
    "print(\"using while loop sum and product are\",sum,product)\n",
    " "
   ]
  },
  {
   "cell_type": "code",
   "execution_count": 15,
   "id": "1f168b27-f65a-49e6-8498-8ac6bd21f816",
   "metadata": {},
   "outputs": [
    {
     "name": "stdin",
     "output_type": "stream",
     "text": [
      "enter no of units consumed 310\n"
     ]
    },
    {
     "name": "stdout",
     "output_type": "stream",
     "text": [
      "electricity bill is rs 2250.0\n"
     ]
    }
   ],
   "source": [
    "\"\"\"Q3. Create a python program to compute the electricity bill for a household. \n",
    "The per-unit charges in rupees are as follows: For the first 100 units, the user\n",
    "will be charged Rs. 4.5 per  unit, for the next 100 units, the user will be charged\n",
    "Rs. 6 per unit, and for the next 100 units, the user will  be charged Rs. 10 per unit\n",
    ", After 300 units and above the user will be charged Rs. 20 per unit. \n",
    "You are required to take the units of electricity consumed in a month from the user as input. \n",
    "Your program must pass this test case: when the unit of electricity consumed by\n",
    "the user in a month is  310, the total electricity bill should be 2250\"\"\"\n",
    "#ans\n",
    "unit=int(input(\"enter no of units consumed\"))\n",
    "if unit<=100:\n",
    "    bill=unit*4.5\n",
    "    print(\"electricity bill is rs\",bill)\n",
    "elif unit>100 and unit<=200:\n",
    "    bill=100*4.5 +(unit-100)*6\n",
    "    print(\"electricity bill is rs\",bill)\n",
    "elif unit>200 and unit<=300:\n",
    "    bill=100*4.5 +100*6+(unit-200)*10\n",
    "    print(\"electricity bill is rs\",bill)\n",
    "else:\n",
    "    bill=100*4.5 +100*6+100*10+(unit-300)*20\n",
    "    print(\"electricity bill is rs\",bill)\n",
    "\n",
    "        \n",
    "\n",
    "    \n",
    "    \n",
    "\n"
   ]
  },
  {
   "cell_type": "code",
   "execution_count": 11,
   "id": "402e6f90-7afd-472e-be64-3bcda7a052c8",
   "metadata": {},
   "outputs": [
    {
     "name": "stdout",
     "output_type": "stream",
     "text": [
      "[2, 4, 5, 6, 8, 10, 12, 14, 15, 16, 18, 20, 22, 24, 25, 26, 28, 30, 32, 34, 35, 36, 38, 40, 42, 44, 45, 46, 48, 50, 52, 54, 55, 56, 58, 60, 62, 64, 65, 66, 68, 70, 72, 74, 75, 76, 78, 80, 82, 84, 85, 86, 88, 90, 92, 94, 95, 96, 98, 100]\n",
      "[2, 4, 5, 6, 8, 10, 12, 14, 15, 16, 18, 20, 22, 24, 25, 26, 28, 30, 32, 34, 35, 36, 38, 40, 42, 44, 45, 46, 48, 50, 52, 54, 55, 56, 58, 60, 62, 64, 65, 66, 68, 70, 72, 74, 75, 76, 78, 80, 82, 84, 85, 86, 88, 90, 92, 94, 95, 96, 98, 100]\n"
     ]
    }
   ],
   "source": [
    "\"\"\"Q4. Create a list of numbers from 1 to 100. Use for loop and while loop \n",
    "to calculate the cube of each  number and if the cube of that number is divisible by 4 or 5 \n",
    "then append that number in a list and print  that list.\"\"\"\n",
    "#ans\n",
    "#using for loop\n",
    "l=[]\n",
    "for i in  range(1,101):\n",
    "    if i**3 % 4==0 or i**3 % 5==0:\n",
    "        l.append(i)\n",
    "print(l)\n",
    "#using while loop\n",
    "l=[]\n",
    "a=1\n",
    "while a<=100:\n",
    "    if a**3 % 4==0 or a**3 % 5==0:\n",
    "        l.append(a)\n",
    "    a=a+1\n",
    "print(l)\n"
   ]
  },
  {
   "cell_type": "code",
   "execution_count": 12,
   "id": "2b636b0c-cb43-4084-b1ff-31dfe7df25be",
   "metadata": {},
   "outputs": [
    {
     "name": "stdout",
     "output_type": "stream",
     "text": [
      "Counts of vowels in the string:\n",
      "a : 4\n",
      "e : 3\n",
      "i : 3\n",
      "o : 2\n",
      "u : 0\n"
     ]
    }
   ],
   "source": [
    "#Q5 Write a program to filter count vowels in the below-given string. \n",
    "#string = \"I want to become a data scientist\" \n",
    "string = \"I want to become a data scientist\" \n",
    "string=string.lower()\n",
    "vowel_counts = {'a':0, 'e':0, 'i':0, 'o':0, 'u':0}\n",
    "\n",
    "for char in string:\n",
    "    if char in vowel_counts.keys():\n",
    "        vowel_counts[char] += 1\n",
    "\n",
    "print(\"Counts of vowels in the string:\")\n",
    "for vowel, count in vowel_counts.items():\n",
    "    print(vowel, \":\", count)\n",
    "\n",
    "\n"
   ]
  },
  {
   "cell_type": "code",
   "execution_count": null,
   "id": "aad46aa5-f9c7-4b70-a8db-a25093a1b2c0",
   "metadata": {},
   "outputs": [],
   "source": []
  }
 ],
 "metadata": {
  "kernelspec": {
   "display_name": "Python 3 (ipykernel)",
   "language": "python",
   "name": "python3"
  },
  "language_info": {
   "codemirror_mode": {
    "name": "ipython",
    "version": 3
   },
   "file_extension": ".py",
   "mimetype": "text/x-python",
   "name": "python",
   "nbconvert_exporter": "python",
   "pygments_lexer": "ipython3",
   "version": "3.10.8"
  }
 },
 "nbformat": 4,
 "nbformat_minor": 5
}
